{
  "nbformat": 4,
  "nbformat_minor": 0,
  "metadata": {
    "colab": {
      "provenance": [],
      "authorship_tag": "ABX9TyOMTc+ldWqSsRcSUK66Mz8c",
      "include_colab_link": true
    },
    "kernelspec": {
      "name": "python3",
      "display_name": "Python 3"
    },
    "language_info": {
      "name": "python"
    }
  },
  "cells": [
    {
      "cell_type": "markdown",
      "metadata": {
        "id": "view-in-github",
        "colab_type": "text"
      },
      "source": [
        "<a href=\"https://colab.research.google.com/github/DeJezuz/Cripto-chatbot/blob/main/GoogleColab.ipynb\" target=\"_parent\"><img src=\"https://colab.research.google.com/assets/colab-badge.svg\" alt=\"Open In Colab\"/></a>"
      ]
    },
    {
      "cell_type": "code",
      "execution_count": 3,
      "metadata": {
        "colab": {
          "base_uri": "https://localhost:8080/"
        },
        "id": "RgJXZ4uqSDCR",
        "outputId": "f5eecd12-039d-498f-fd18-ea1536304762"
      },
      "outputs": [
        {
          "output_type": "stream",
          "name": "stdout",
          "text": [
            "👋 Hi! I'm CryptoBuddy—your AI-powered financial sidekick!\n",
            "Ask me about trending cryptos or the most sustainable coins 🌱\n",
            "What would you like to know? Which crypto is most sustainable?\n",
            "🌱 Invest in Cardano! It's eco-friendly and has long-term potential!\n",
            "⚠️ Disclaimer: Crypto is risky—always do your own research!\n"
          ]
        }
      ],
      "source": [
        "\n",
        "crypto_db = {\n",
        "    \"Bitcoin\": {\n",
        "        \"price_trend\": \"rising\",\n",
        "        \"market_cap\": \"high\",\n",
        "        \"energy_use\": \"high\",\n",
        "        \"sustainability_score\": 3/10\n",
        "    },\n",
        "    \"Ethereum\": {\n",
        "        \"price_trend\": \"stable\",\n",
        "        \"market_cap\": \"high\",\n",
        "        \"energy_use\": \"medium\",\n",
        "        \"sustainability_score\": 6/10\n",
        "    },\n",
        "    \"Cardano\": {\n",
        "        \"price_trend\": \"rising\",\n",
        "        \"market_cap\": \"medium\",\n",
        "        \"energy_use\": \"low\",\n",
        "        \"sustainability_score\": 8/10\n",
        "    }\n",
        "}\n",
        "\n",
        "print(\"👋 Hi! I'm CryptoBuddy—your AI-powered financial sidekick!\")\n",
        "print(\"Ask me about trending cryptos or the most sustainable coins 🌱\")\n",
        "\n",
        "user_query = input(\"What would you like to know? \").lower()\n",
        "\n",
        "if \"sustainable\" in user_query:\n",
        "    recommend = max(crypto_db, key=lambda x: crypto_db[x][\"sustainability_score\"])\n",
        "    print(f\"🌱 Invest in {recommend}! It's eco-friendly and has long-term potential!\")\n",
        "\n",
        "elif \"trending\" in user_query or \"growth\" in user_query or \"rising\" in user_query:\n",
        "    trending = [coin for coin in crypto_db if crypto_db[coin][\"price_trend\"] == \"rising\"]\n",
        "    print(f\"🚀 These coins are trending up: {', '.join(trending)}\")\n",
        "\n",
        "elif \"profitable\" in user_query or \"best\" in user_query:\n",
        "    profitable = [\n",
        "        coin for coin, data in crypto_db.items()\n",
        "        if data[\"price_trend\"] == \"rising\" and data[\"market_cap\"] == \"high\"\n",
        "    ]\n",
        "    if profitable:\n",
        "        print(f\"💰 Based on profitability, consider: {', '.join(profitable)}\")\n",
        "    else:\n",
        "        print(\"🤷 No coins meet the profitability criteria right now.\")\n",
        "\n",
        "else:\n",
        "    print(\"🤔 I'm not sure about that. Try asking about sustainability or trends!\")\n",
        "\n",
        "print(\"⚠️ Disclaimer: Crypto is risky—always do your own research!\")"
      ]
    }
  ]
}